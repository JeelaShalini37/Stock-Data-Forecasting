{
 "cells": [
  {
   "cell_type": "markdown",
   "id": "f3e7f529",
   "metadata": {},
   "source": [
    "## Stock Data Forecasting Using Deep Learning with Backtesting Strategies"
   ]
  },
  {
   "cell_type": "markdown",
   "id": "fc7c4de3",
   "metadata": {},
   "source": [
    "### Group 7\n",
    "#### Vamshi Kumar Konduru, 11516045\n",
    "#### Harshitha Rangineni, 11504745\n",
    "#### Anusha Vanga, 11501693\n",
    "#### Mallikarjun Pandilla, 11519831"
   ]
  },
  {
   "cell_type": "markdown",
   "id": "6c20be0b",
   "metadata": {},
   "source": [
    "### Installing the below packages"
   ]
  },
  {
   "cell_type": "code",
   "execution_count": null,
   "id": "6e34ef75",
   "metadata": {},
   "outputs": [],
   "source": [
    "#For Python 3.xx version\n",
    "!pip install pandas==1.3.4\n",
    "!pip install pandas-datareader==0.10.0\n",
    "!pip install numpy==1.19.4\n",
    "!pip install matplotlib==3.5.2\n",
    "!pip install seaborn==0.11.2\n",
    "!pip install scikit-learn==0.24.2\n",
    "!pip install keras==2.3.1\n",
    "!pip install yfinance\n",
    "!pip install tensorflow"
   ]
  },
  {
   "cell_type": "markdown",
   "id": "3aec5f27",
   "metadata": {},
   "source": [
    "### Importing the below module"
   ]
  },
  {
   "cell_type": "code",
   "execution_count": 117,
   "id": "ee707a8e",
   "metadata": {},
   "outputs": [],
   "source": [
    "import math\n",
    "import pandas_datareader as web\n",
    "import numpy as np\n",
    "import pandas as pd\n",
    "import matplotlib.pyplot as plt\n",
    "import seaborn as sns\n",
    "plt.style.use(\"fivethirtyeight\")\n",
    "sns.set_style('whitegrid')\n",
    "%matplotlib inline\n",
    "import datetime\n",
    "from datetime import datetime\n",
    "from sklearn.preprocessing import MinMaxScaler\n",
    "from keras.models import Sequential\n",
    "from keras.layers import Dense,LSTM"
   ]
  },
  {
   "cell_type": "markdown",
   "id": "7fdcd394",
   "metadata": {},
   "source": [
    "## Model for Apple"
   ]
  },
  {
   "cell_type": "code",
   "execution_count": 23,
   "id": "1243388c",
   "metadata": {},
   "outputs": [
    {
     "data": {
      "text/html": [
       "<div>\n",
       "<style scoped>\n",
       "    .dataframe tbody tr th:only-of-type {\n",
       "        vertical-align: middle;\n",
       "    }\n",
       "\n",
       "    .dataframe tbody tr th {\n",
       "        vertical-align: top;\n",
       "    }\n",
       "\n",
       "    .dataframe thead th {\n",
       "        text-align: right;\n",
       "    }\n",
       "</style>\n",
       "<table border=\"1\" class=\"dataframe\">\n",
       "  <thead>\n",
       "    <tr style=\"text-align: right;\">\n",
       "      <th></th>\n",
       "      <th>High</th>\n",
       "      <th>Low</th>\n",
       "      <th>Open</th>\n",
       "      <th>Close</th>\n",
       "      <th>Volume</th>\n",
       "      <th>Adj Close</th>\n",
       "    </tr>\n",
       "    <tr>\n",
       "      <th>Date</th>\n",
       "      <th></th>\n",
       "      <th></th>\n",
       "      <th></th>\n",
       "      <th></th>\n",
       "      <th></th>\n",
       "      <th></th>\n",
       "    </tr>\n",
       "  </thead>\n",
       "  <tbody>\n",
       "    <tr>\n",
       "      <th>2011-01-03</th>\n",
       "      <td>11.795000</td>\n",
       "      <td>11.601429</td>\n",
       "      <td>11.630000</td>\n",
       "      <td>11.770357</td>\n",
       "      <td>445138400.0</td>\n",
       "      <td>10.033263</td>\n",
       "    </tr>\n",
       "    <tr>\n",
       "      <th>2011-01-04</th>\n",
       "      <td>11.875000</td>\n",
       "      <td>11.719643</td>\n",
       "      <td>11.872857</td>\n",
       "      <td>11.831786</td>\n",
       "      <td>309080800.0</td>\n",
       "      <td>10.085626</td>\n",
       "    </tr>\n",
       "    <tr>\n",
       "      <th>2011-01-05</th>\n",
       "      <td>11.940714</td>\n",
       "      <td>11.767857</td>\n",
       "      <td>11.769643</td>\n",
       "      <td>11.928571</td>\n",
       "      <td>255519600.0</td>\n",
       "      <td>10.168128</td>\n",
       "    </tr>\n",
       "    <tr>\n",
       "      <th>2011-01-06</th>\n",
       "      <td>11.973214</td>\n",
       "      <td>11.889286</td>\n",
       "      <td>11.954286</td>\n",
       "      <td>11.918929</td>\n",
       "      <td>300428800.0</td>\n",
       "      <td>10.159911</td>\n",
       "    </tr>\n",
       "    <tr>\n",
       "      <th>2011-01-07</th>\n",
       "      <td>12.012500</td>\n",
       "      <td>11.853571</td>\n",
       "      <td>11.928214</td>\n",
       "      <td>12.004286</td>\n",
       "      <td>311931200.0</td>\n",
       "      <td>10.232664</td>\n",
       "    </tr>\n",
       "    <tr>\n",
       "      <th>...</th>\n",
       "      <td>...</td>\n",
       "      <td>...</td>\n",
       "      <td>...</td>\n",
       "      <td>...</td>\n",
       "      <td>...</td>\n",
       "      <td>...</td>\n",
       "    </tr>\n",
       "    <tr>\n",
       "      <th>2021-12-23</th>\n",
       "      <td>176.850006</td>\n",
       "      <td>175.270004</td>\n",
       "      <td>175.850006</td>\n",
       "      <td>176.279999</td>\n",
       "      <td>68356600.0</td>\n",
       "      <td>175.262817</td>\n",
       "    </tr>\n",
       "    <tr>\n",
       "      <th>2021-12-27</th>\n",
       "      <td>180.419998</td>\n",
       "      <td>177.070007</td>\n",
       "      <td>177.089996</td>\n",
       "      <td>180.330002</td>\n",
       "      <td>74919600.0</td>\n",
       "      <td>179.289459</td>\n",
       "    </tr>\n",
       "    <tr>\n",
       "      <th>2021-12-28</th>\n",
       "      <td>181.330002</td>\n",
       "      <td>178.529999</td>\n",
       "      <td>180.160004</td>\n",
       "      <td>179.289993</td>\n",
       "      <td>79144300.0</td>\n",
       "      <td>178.255432</td>\n",
       "    </tr>\n",
       "    <tr>\n",
       "      <th>2021-12-29</th>\n",
       "      <td>180.630005</td>\n",
       "      <td>178.139999</td>\n",
       "      <td>179.330002</td>\n",
       "      <td>179.380005</td>\n",
       "      <td>62348900.0</td>\n",
       "      <td>178.344925</td>\n",
       "    </tr>\n",
       "    <tr>\n",
       "      <th>2021-12-30</th>\n",
       "      <td>180.570007</td>\n",
       "      <td>178.089996</td>\n",
       "      <td>179.470001</td>\n",
       "      <td>178.199997</td>\n",
       "      <td>59773000.0</td>\n",
       "      <td>177.171738</td>\n",
       "    </tr>\n",
       "  </tbody>\n",
       "</table>\n",
       "<p>2768 rows × 6 columns</p>\n",
       "</div>"
      ],
      "text/plain": [
       "                  High         Low        Open       Close       Volume  \\\n",
       "Date                                                                      \n",
       "2011-01-03   11.795000   11.601429   11.630000   11.770357  445138400.0   \n",
       "2011-01-04   11.875000   11.719643   11.872857   11.831786  309080800.0   \n",
       "2011-01-05   11.940714   11.767857   11.769643   11.928571  255519600.0   \n",
       "2011-01-06   11.973214   11.889286   11.954286   11.918929  300428800.0   \n",
       "2011-01-07   12.012500   11.853571   11.928214   12.004286  311931200.0   \n",
       "...                ...         ...         ...         ...          ...   \n",
       "2021-12-23  176.850006  175.270004  175.850006  176.279999   68356600.0   \n",
       "2021-12-27  180.419998  177.070007  177.089996  180.330002   74919600.0   \n",
       "2021-12-28  181.330002  178.529999  180.160004  179.289993   79144300.0   \n",
       "2021-12-29  180.630005  178.139999  179.330002  179.380005   62348900.0   \n",
       "2021-12-30  180.570007  178.089996  179.470001  178.199997   59773000.0   \n",
       "\n",
       "             Adj Close  \n",
       "Date                    \n",
       "2011-01-03   10.033263  \n",
       "2011-01-04   10.085626  \n",
       "2011-01-05   10.168128  \n",
       "2011-01-06   10.159911  \n",
       "2011-01-07   10.232664  \n",
       "...                ...  \n",
       "2021-12-23  175.262817  \n",
       "2021-12-27  179.289459  \n",
       "2021-12-28  178.255432  \n",
       "2021-12-29  178.344925  \n",
       "2021-12-30  177.171738  \n",
       "\n",
       "[2768 rows x 6 columns]"
      ]
     },
     "execution_count": 23,
     "metadata": {},
     "output_type": "execute_result"
    }
   ],
   "source": [
    "# model building and training\n",
    "# here we are Getting the stock quote\n",
    "start= datetime(2011, 1, 1) #\"2011–01–01\"\n",
    "end= datetime(2021, 12, 30) #\"2021–12–30\"\n",
    "df_AAPL = web.DataReader('AAPL', data_source='yahoo', start=start, end=end)\n",
    "# printing the data\n",
    "df_AAPL"
   ]
  },
  {
   "cell_type": "code",
   "execution_count": 24,
   "id": "d37ac23f",
   "metadata": {},
   "outputs": [
    {
     "data": {
      "text/plain": [
       "\"\\n# here we are Visualising the closing price history\\nplt.figure(figsize=(16,8))\\nplt.title('Close Price History')\\nplt.plot(df_AAPL['Close'])\\nplt.xlabel('Date', fontsize=18)\\nplt.ylabel('Close Price USD ($)', fontsize=18)\\nplt.show()\\n\""
      ]
     },
     "execution_count": 24,
     "metadata": {},
     "output_type": "execute_result"
    }
   ],
   "source": [
    "\"\"\"\n",
    "# here we are Visualising the closing price history\n",
    "plt.figure(figsize=(16,8))\n",
    "plt.title('Close Price History')\n",
    "plt.plot(df_AAPL['Close'])\n",
    "plt.xlabel('Date', fontsize=18)\n",
    "plt.ylabel('Close Price USD ($)', fontsize=18)\n",
    "plt.show()\n",
    "\"\"\""
   ]
  },
  {
   "cell_type": "code",
   "execution_count": 25,
   "id": "43d0a8bd",
   "metadata": {},
   "outputs": [
    {
     "data": {
      "text/plain": [
       "2215"
      ]
     },
     "execution_count": 25,
     "metadata": {},
     "output_type": "execute_result"
    }
   ],
   "source": [
    "#Creating a new dataframe with only the 'Close' column\n",
    "data_AAPL = df_AAPL.filter(['Close'])\n",
    "#Converting the dataframe to a numpy array\n",
    "dataset_AAPL = data_AAPL.values\n",
    "#Get /Compute the number of rows to train the model on\n",
    "training_data_len_AAPL = math.ceil( len(dataset_AAPL) *.8)\n",
    "training_data_len_AAPL"
   ]
  },
  {
   "cell_type": "code",
   "execution_count": 26,
   "id": "7100ae91",
   "metadata": {},
   "outputs": [
    {
     "data": {
      "text/plain": [
       "array([[0.00301019],\n",
       "       [0.00337353],\n",
       "       [0.00394598],\n",
       "       ...,\n",
       "       [0.9938486 ],\n",
       "       [0.994381  ],\n",
       "       [0.98740153]])"
      ]
     },
     "execution_count": 26,
     "metadata": {},
     "output_type": "execute_result"
    }
   ],
   "source": [
    "# here we are Scaling the all of the data to be values between 0 and 1 \n",
    "scaler = MinMaxScaler(feature_range=(0, 1)) \n",
    "scaled_data_AAPL = scaler.fit_transform(dataset_AAPL)\n",
    "scaled_data_AAPL"
   ]
  },
  {
   "cell_type": "code",
   "execution_count": 27,
   "id": "1ad151ef",
   "metadata": {},
   "outputs": [],
   "source": [
    "#Creating the scaled training data set\n",
    "train_data_AAPL = scaled_data_AAPL[0:training_data_len_AAPL  , : ]\n",
    "#Spliting the data into x_train and y_train data sets\n",
    "x_train_AAPL=[]\n",
    "y_train_AAPL =[]\n",
    "for i in range(60,len(train_data_AAPL)):\n",
    "    x_train_AAPL.append(train_data_AAPL[i-60:i,0])\n",
    "    y_train_AAPL.append(train_data_AAPL[i,0])"
   ]
  },
  {
   "cell_type": "code",
   "execution_count": 28,
   "id": "2e63fccf",
   "metadata": {},
   "outputs": [],
   "source": [
    "#Here we are Converting x_train and y_train to numpy arrays\n",
    "x_train_AAPL, y_train_AAPL = np.array(x_train_AAPL), np.array(y_train_AAPL)"
   ]
  },
  {
   "cell_type": "code",
   "execution_count": 29,
   "id": "e579dc20",
   "metadata": {},
   "outputs": [
    {
     "data": {
      "text/plain": [
       "(2155, 60, 1)"
      ]
     },
     "execution_count": 29,
     "metadata": {},
     "output_type": "execute_result"
    }
   ],
   "source": [
    "# Here we are reshaping the data into the shape accepted by the LSTM\n",
    "x_train_AAPL = np.reshape(x_train_AAPL, (x_train_AAPL.shape[0],x_train_AAPL.shape[1],1))\n",
    "x_train_AAPL.shape"
   ]
  },
  {
   "cell_type": "code",
   "execution_count": 118,
   "id": "d62c49be",
   "metadata": {},
   "outputs": [],
   "source": [
    "import keras\n",
    "from keras.models import Sequential\n",
    "from keras.layers import LSTM\n",
    "from keras.layers import Dense\n",
    "from keras.layers import Dropout"
   ]
  },
  {
   "cell_type": "code",
   "execution_count": 119,
   "id": "72ec73c1",
   "metadata": {},
   "outputs": [],
   "source": [
    "#initialisizng the model \n",
    "def generate_model(x_train):\n",
    "    \n",
    "    model= Sequential()\n",
    "\n",
    "    #First Input layer and LSTM layer with 0.2% dropout\n",
    "    model.add(LSTM(units=50,return_sequences=True,kernel_initializer='glorot_uniform',input_shape=(x_train_AAPL.shape[1],1)))\n",
    "    model.add(Dropout(0.2))\n",
    "\n",
    "    # Where:\n",
    "    #     return_sequences: Boolean. Whether to return the last output in the output sequence, or the full sequence.\n",
    "\n",
    "    # Second layer with 0.2% dropout\n",
    "    model.add(LSTM(units=50,kernel_initializer='glorot_uniform',return_sequences=True))\n",
    "    model.add(Dropout(0.2))\n",
    "\n",
    "    #Third layer with 0.2% dropout\n",
    "    model.add(LSTM(units=50,kernel_initializer='glorot_uniform',return_sequences=True))\n",
    "    model.add(Dropout(0.2))\n",
    "\n",
    "    #Fourth layer with 0.2% dropout, we wont use return sequence true in last layers as we dont want the previous output\n",
    "    model.add(LSTM(units=50,kernel_initializer='glorot_uniform'))\n",
    "    model.add(Dropout(0.2))\n",
    "    #Output layer , we are not passing activation function\n",
    "    model.add(Dense(units=1))\n",
    "    \n",
    "    return model"
   ]
  },
  {
   "cell_type": "code",
   "execution_count": 37,
   "id": "3a4575d9",
   "metadata": {},
   "outputs": [
    {
     "name": "stdout",
     "output_type": "stream",
     "text": [
      "Model: \"sequential_2\"\n",
      "_________________________________________________________________\n",
      "Layer (type)                 Output Shape              Param #   \n",
      "=================================================================\n",
      "lstm_8 (LSTM)                (None, 60, 50)            10400     \n",
      "_________________________________________________________________\n",
      "dropout_8 (Dropout)          (None, 60, 50)            0         \n",
      "_________________________________________________________________\n",
      "lstm_9 (LSTM)                (None, 60, 50)            20200     \n",
      "_________________________________________________________________\n",
      "dropout_9 (Dropout)          (None, 60, 50)            0         \n",
      "_________________________________________________________________\n",
      "lstm_10 (LSTM)               (None, 60, 50)            20200     \n",
      "_________________________________________________________________\n",
      "dropout_10 (Dropout)         (None, 60, 50)            0         \n",
      "_________________________________________________________________\n",
      "lstm_11 (LSTM)               (None, 50)                20200     \n",
      "_________________________________________________________________\n",
      "dropout_11 (Dropout)         (None, 50)                0         \n",
      "_________________________________________________________________\n",
      "dense_2 (Dense)              (None, 1)                 51        \n",
      "=================================================================\n",
      "Total params: 71,051\n",
      "Trainable params: 71,051\n",
      "Non-trainable params: 0\n",
      "_________________________________________________________________\n"
     ]
    }
   ],
   "source": [
    "model = generate_model(x_train_AAPL)\n",
    "#Compiling the network\n",
    "model.compile(optimizer='adam',loss='mean_squared_error')\n",
    "#fitting the network\n",
    "model.summary()"
   ]
  },
  {
   "cell_type": "code",
   "execution_count": 40,
   "id": "08eeb5d5",
   "metadata": {
    "scrolled": true
   },
   "outputs": [
    {
     "name": "stdout",
     "output_type": "stream",
     "text": [
      "Epoch 1/50\n",
      "72/72 [==============================] - 23s 102ms/step - loss: 0.0031\n",
      "Epoch 2/50\n",
      "72/72 [==============================] - 8s 116ms/step - loss: 3.0174e-04\n",
      "Epoch 3/50\n",
      "72/72 [==============================] - 8s 116ms/step - loss: 2.2189e-04\n",
      "Epoch 4/50\n",
      "72/72 [==============================] - 9s 128ms/step - loss: 2.2204e-04\n",
      "Epoch 5/50\n",
      "72/72 [==============================] - 7s 96ms/step - loss: 2.1908e-04\n",
      "Epoch 6/50\n",
      "72/72 [==============================] - 8s 111ms/step - loss: 2.0480e-04\n",
      "Epoch 7/50\n",
      "72/72 [==============================] - 7s 103ms/step - loss: 2.6766e-04\n",
      "Epoch 8/50\n",
      "72/72 [==============================] - 7s 96ms/step - loss: 1.7760e-04\n",
      "Epoch 9/50\n",
      "72/72 [==============================] - 7s 101ms/step - loss: 1.7018e-04\n",
      "Epoch 10/50\n",
      "72/72 [==============================] - 8s 107ms/step - loss: 1.6808e-04\n",
      "Epoch 11/50\n",
      "72/72 [==============================] - 9s 123ms/step - loss: 1.5090e-04\n",
      "Epoch 12/50\n",
      "72/72 [==============================] - 10s 138ms/step - loss: 1.3667e-04\n",
      "Epoch 13/50\n",
      "72/72 [==============================] - 8s 110ms/step - loss: 1.3174e-04\n",
      "Epoch 14/50\n",
      "72/72 [==============================] - 8s 110ms/step - loss: 1.3601e-04\n",
      "Epoch 15/50\n",
      "72/72 [==============================] - 8s 118ms/step - loss: 1.3270e-04\n",
      "Epoch 16/50\n",
      "72/72 [==============================] - 7s 100ms/step - loss: 1.4623e-04\n",
      "Epoch 17/50\n",
      "72/72 [==============================] - 7s 103ms/step - loss: 1.3015e-04\n",
      "Epoch 18/50\n",
      "72/72 [==============================] - 9s 121ms/step - loss: 1.1380e-04 5\n",
      "Epoch 19/50\n",
      "72/72 [==============================] - 8s 118ms/step - loss: 1.3813e-04\n",
      "Epoch 20/50\n",
      "72/72 [==============================] - 8s 107ms/step - loss: 1.2402e-04\n",
      "Epoch 21/50\n",
      "72/72 [==============================] - 7s 97ms/step - loss: 1.0197e-04\n",
      "Epoch 22/50\n",
      "72/72 [==============================] - 7s 103ms/step - loss: 1.1804e-04\n",
      "Epoch 23/50\n",
      "72/72 [==============================] - 8s 106ms/step - loss: 1.1050e-04\n",
      "Epoch 24/50\n",
      "72/72 [==============================] - 8s 109ms/step - loss: 1.1035e-04\n",
      "Epoch 25/50\n",
      "72/72 [==============================] - 7s 104ms/step - loss: 1.0975e-04 0s - loss: 1.1001e\n",
      "Epoch 26/50\n",
      "72/72 [==============================] - 8s 117ms/step - loss: 8.2038e-05 0s - loss: 8\n",
      "Epoch 27/50\n",
      "72/72 [==============================] - 9s 118ms/step - loss: 9.9981e-05 1s - lo\n",
      "Epoch 28/50\n",
      "72/72 [==============================] - 8s 118ms/step - loss: 1.1078e-04\n",
      "Epoch 29/50\n",
      "72/72 [==============================] - 8s 107ms/step - loss: 1.3780e-04\n",
      "Epoch 30/50\n",
      "72/72 [==============================] - 7s 104ms/step - loss: 9.6278e-05\n",
      "Epoch 31/50\n",
      "72/72 [==============================] - 8s 110ms/step - loss: 1.0513e-04\n",
      "Epoch 32/50\n",
      "72/72 [==============================] - 8s 111ms/step - loss: 1.0949e-04\n",
      "Epoch 33/50\n",
      "72/72 [==============================] - 7s 102ms/step - loss: 9.6778e-05\n",
      "Epoch 34/50\n",
      "72/72 [==============================] - 8s 105ms/step - loss: 1.0970e-04\n",
      "Epoch 35/50\n",
      "72/72 [==============================] - 7s 99ms/step - loss: 9.7284e-05\n",
      "Epoch 36/50\n",
      "72/72 [==============================] - 7s 96ms/step - loss: 9.9826e-05\n",
      "Epoch 37/50\n",
      "72/72 [==============================] - 8s 116ms/step - loss: 9.6605e-05\n",
      "Epoch 38/50\n",
      "72/72 [==============================] - 8s 107ms/step - loss: 8.4524e-05\n",
      "Epoch 39/50\n",
      "72/72 [==============================] - 7s 99ms/step - loss: 7.6435e-05\n",
      "Epoch 40/50\n",
      "72/72 [==============================] - 7s 102ms/step - loss: 8.3176e-05\n",
      "Epoch 41/50\n",
      "72/72 [==============================] - 8s 116ms/step - loss: 1.0740e-04\n",
      "Epoch 42/50\n",
      "72/72 [==============================] - 7s 95ms/step - loss: 9.8156e-05\n",
      "Epoch 43/50\n",
      "72/72 [==============================] - 7s 96ms/step - loss: 9.0172e-05\n",
      "Epoch 44/50\n",
      "72/72 [==============================] - 9s 131ms/step - loss: 7.4192e-05\n",
      "Epoch 45/50\n",
      "72/72 [==============================] - 10s 137ms/step - loss: 7.9499e-05\n",
      "Epoch 46/50\n",
      "72/72 [==============================] - 9s 130ms/step - loss: 9.4625e-05\n",
      "Epoch 47/50\n",
      "72/72 [==============================] - 8s 110ms/step - loss: 1.2058e-04\n",
      "Epoch 48/50\n",
      "72/72 [==============================] - 8s 111ms/step - loss: 8.8713e-05 0s - loss: 8.8748\n",
      "Epoch 49/50\n",
      "72/72 [==============================] - 7s 100ms/step - loss: 7.1508e-05\n",
      "Epoch 50/50\n",
      "72/72 [==============================] - 9s 119ms/step - loss: 8.7041e-05\n"
     ]
    }
   ],
   "source": [
    "import os\n",
    "\n",
    "path_logs = 'logs'\n",
    "if path_logs not in os.listdir(os.getcwd()):\n",
    "    os.mkdir(path_logs)\n",
    "csv_logger = keras.callbacks.CSVLogger(f'{path_logs}/keras_log_AAPL.csv' ,append=True)\n",
    "model.fit(x_train_AAPL,y_train_AAPL,batch_size=30,epochs=50, callbacks = [csv_logger])\n",
    "model.save(\"Trained_Model/AAPL_predict_model.h5\")"
   ]
  },
  {
   "cell_type": "code",
   "execution_count": 41,
   "id": "0fd05114",
   "metadata": {},
   "outputs": [],
   "source": [
    "# here we are testing data set\n",
    "test_data_AAPL = scaled_data_AAPL[training_data_len_AAPL - 60: , : ]\n",
    "#Creating the x_test and y_test data sets\n",
    "x_test_AAPL = []\n",
    "y_test_AAPL =  dataset_AAPL[training_data_len_AAPL : , : ] #Get all of the rows from index 1603 to the rest and all of the columns (in this case it's only column 'Close'), so 2003 - 1603 = 400 rows of data\n",
    "for i in range(60,len(test_data_AAPL)):\n",
    "    x_test_AAPL.append(test_data_AAPL[i-60:i,0])"
   ]
  },
  {
   "cell_type": "code",
   "execution_count": 42,
   "id": "2cb8cd5a",
   "metadata": {},
   "outputs": [],
   "source": [
    "# here we are converting x_test to a numpy array  \n",
    "x_test_AAPL = np.array(x_test_AAPL)"
   ]
  },
  {
   "cell_type": "code",
   "execution_count": 43,
   "id": "bffd81f5",
   "metadata": {},
   "outputs": [],
   "source": [
    "# here we are reshaping the data into the shape accepted by the LSTM  \n",
    "x_test_AAPL = np.reshape(x_test_AAPL, (x_test_AAPL.shape[0],x_test_AAPL.shape[1],1))"
   ]
  },
  {
   "cell_type": "code",
   "execution_count": 44,
   "id": "806de25b",
   "metadata": {},
   "outputs": [],
   "source": [
    "# now we are getting the models predicted price values\n",
    "predictions_AAPL = model.predict(x_test_AAPL) \n",
    "predictions_AAPL = scaler.inverse_transform(predictions_AAPL)#Undo scaling"
   ]
  },
  {
   "cell_type": "code",
   "execution_count": 45,
   "id": "4e8db02b",
   "metadata": {},
   "outputs": [
    {
     "data": {
      "text/plain": [
       "5.037326163292079"
      ]
     },
     "execution_count": 45,
     "metadata": {},
     "output_type": "execute_result"
    }
   ],
   "source": [
    "# here we are calculaing the value of RMSE \n",
    "rmse_AAPL=np.sqrt(np.mean(((predictions_AAPL- y_test_AAPL)**2)))\n",
    "# printing rmse value for predictions and test set\n",
    "rmse_AAPL"
   ]
  },
  {
   "cell_type": "code",
   "execution_count": 46,
   "id": "1e93d4e8",
   "metadata": {},
   "outputs": [
    {
     "data": {
      "image/png": "[encoded data removed]",
      "text/plain": [
       "<Figure size 1152x576 with 1 Axes>"
      ]
     },
     "metadata": {
      "needs_background": "light"
     },
     "output_type": "display_data"
    }
   ],
   "source": [
    "#Plot/Create the data for the graph\n",
    "train_AAPL = data_AAPL[:training_data_len_AAPL]\n",
    "valid_AAPL = data_AAPL[training_data_len_AAPL:]\n",
    "valid_AAPL['Predictions'] = predictions_AAPL\n",
    "#Visualize the data\n",
    "plt.figure(figsize=(16,8))\n",
    "plt.title('Model for AAPL')\n",
    "plt.xlabel('Date', fontsize=18)\n",
    "plt.ylabel('Close Price', fontsize=18)\n",
    "plt.plot(train_AAPL['Close'])\n",
    "plt.plot(valid_AAPL[['Close', 'Predictions']])\n",
    "plt.legend(['Train', 'Val', 'Predictions'], loc='lower right')\n",
    "plt.show()"
   ]
  },
  {
   "cell_type": "code",
   "execution_count": 47,
   "id": "26adc183",
   "metadata": {},
   "outputs": [
    {
     "name": "stdout",
     "output_type": "stream",
     "text": [
      "                 Close  Predictions\n",
      "Date                               \n",
      "2019-10-22   59.990002    58.923485\n",
      "2019-10-23   60.794998    59.105892\n",
      "2019-10-24   60.895000    59.363895\n",
      "2019-10-25   61.645000    59.689224\n",
      "2019-10-28   62.262501    60.085403\n",
      "...                ...          ...\n",
      "2021-12-23  176.279999   163.272339\n",
      "2021-12-27  180.330002   163.775665\n",
      "2021-12-28  179.289993   165.687775\n",
      "2021-12-29  179.380005   168.275452\n",
      "2021-12-30  178.199997   170.720917\n",
      "\n",
      "[553 rows x 2 columns]\n"
     ]
    }
   ],
   "source": [
    "print(valid_AAPL)"
   ]
  },
  {
   "cell_type": "markdown",
   "id": "8a22fe66",
   "metadata": {},
   "source": [
    "## Model for Google"
   ]
  },
  {
   "cell_type": "code",
   "execution_count": 120,
   "id": "093bd0ae",
   "metadata": {},
   "outputs": [
    {
     "data": {
      "text/html": [
       "<div>\n",
       "<style scoped>\n",
       "    .dataframe tbody tr th:only-of-type {\n",
       "        vertical-align: middle;\n",
       "    }\n",
       "\n",
       "    .dataframe tbody tr th {\n",
       "        vertical-align: top;\n",
       "    }\n",
       "\n",
       "    .dataframe thead th {\n",
       "        text-align: right;\n",
       "    }\n",
       "</style>\n",
       "<table border=\"1\" class=\"dataframe\">\n",
       "  <thead>\n",
       "    <tr style=\"text-align: right;\">\n",
       "      <th></th>\n",
       "      <th>High</th>\n",
       "      <th>Low</th>\n",
       "      <th>Open</th>\n",
       "      <th>Close</th>\n",
       "      <th>Volume</th>\n",
       "      <th>Adj Close</th>\n",
       "    </tr>\n",
       "    <tr>\n",
       "      <th>Date</th>\n",
       "      <th></th>\n",
       "      <th></th>\n",
       "      <th></th>\n",
       "      <th></th>\n",
       "      <th></th>\n",
       "      <th></th>\n",
       "    </tr>\n",
       "  </thead>\n",
       "  <tbody>\n",
       "    <tr>\n",
       "      <th>2011-01-03</th>\n",
       "      <td>15.083214</td>\n",
       "      <td>14.856315</td>\n",
       "      <td>14.856315</td>\n",
       "      <td>15.052330</td>\n",
       "      <td>94962614.0</td>\n",
       "      <td>15.052330</td>\n",
       "    </tr>\n",
       "    <tr>\n",
       "      <th>2011-01-04</th>\n",
       "      <td>15.097909</td>\n",
       "      <td>14.946975</td>\n",
       "      <td>15.083962</td>\n",
       "      <td>14.996788</td>\n",
       "      <td>73253547.0</td>\n",
       "      <td>14.996788</td>\n",
       "    </tr>\n",
       "    <tr>\n",
       "      <th>2011-01-05</th>\n",
       "      <td>15.201272</td>\n",
       "      <td>14.945232</td>\n",
       "      <td>14.945730</td>\n",
       "      <td>15.169890</td>\n",
       "      <td>101671667.0</td>\n",
       "      <td>15.169890</td>\n",
       "    </tr>\n",
       "    <tr>\n",
       "      <th>2011-01-06</th>\n",
       "      <td>15.403016</td>\n",
       "      <td>15.194298</td>\n",
       "      <td>15.209989</td>\n",
       "      <td>15.280226</td>\n",
       "      <td>82620526.0</td>\n",
       "      <td>15.280226</td>\n",
       "    </tr>\n",
       "    <tr>\n",
       "      <th>2011-01-07</th>\n",
       "      <td>15.398533</td>\n",
       "      <td>15.196291</td>\n",
       "      <td>15.340251</td>\n",
       "      <td>15.353451</td>\n",
       "      <td>84363033.0</td>\n",
       "      <td>15.353451</td>\n",
       "    </tr>\n",
       "    <tr>\n",
       "      <th>...</th>\n",
       "      <td>...</td>\n",
       "      <td>...</td>\n",
       "      <td>...</td>\n",
       "      <td>...</td>\n",
       "      <td>...</td>\n",
       "      <td>...</td>\n",
       "    </tr>\n",
       "    <tr>\n",
       "      <th>2021-12-23</th>\n",
       "      <td>148.572601</td>\n",
       "      <td>146.950851</td>\n",
       "      <td>147.089493</td>\n",
       "      <td>147.142502</td>\n",
       "      <td>13818000.0</td>\n",
       "      <td>147.142502</td>\n",
       "    </tr>\n",
       "    <tr>\n",
       "      <th>2021-12-27</th>\n",
       "      <td>148.426498</td>\n",
       "      <td>147.250000</td>\n",
       "      <td>147.463501</td>\n",
       "      <td>148.063995</td>\n",
       "      <td>13256000.0</td>\n",
       "      <td>148.063995</td>\n",
       "    </tr>\n",
       "    <tr>\n",
       "      <th>2021-12-28</th>\n",
       "      <td>148.374496</td>\n",
       "      <td>145.935501</td>\n",
       "      <td>148.374496</td>\n",
       "      <td>146.447998</td>\n",
       "      <td>18624000.0</td>\n",
       "      <td>146.447998</td>\n",
       "    </tr>\n",
       "    <tr>\n",
       "      <th>2021-12-29</th>\n",
       "      <td>147.183746</td>\n",
       "      <td>145.504501</td>\n",
       "      <td>146.429504</td>\n",
       "      <td>146.504501</td>\n",
       "      <td>17022000.0</td>\n",
       "      <td>146.504501</td>\n",
       "    </tr>\n",
       "    <tr>\n",
       "      <th>2021-12-30</th>\n",
       "      <td>147.062500</td>\n",
       "      <td>145.758499</td>\n",
       "      <td>146.449997</td>\n",
       "      <td>146.002502</td>\n",
       "      <td>12978000.0</td>\n",
       "      <td>146.002502</td>\n",
       "    </tr>\n",
       "  </tbody>\n",
       "</table>\n",
       "<p>2768 rows × 6 columns</p>\n",
       "</div>"
      ],
      "text/plain": [
       "                  High         Low        Open       Close       Volume  \\\n",
       "Date                                                                      \n",
       "2011-01-03   15.083214   14.856315   14.856315   15.052330   94962614.0   \n",
       "2011-01-04   15.097909   14.946975   15.083962   14.996788   73253547.0   \n",
       "2011-01-05   15.201272   14.945232   14.945730   15.169890  101671667.0   \n",
       "2011-01-06   15.403016   15.194298   15.209989   15.280226   82620526.0   \n",
       "2011-01-07   15.398533   15.196291   15.340251   15.353451   84363033.0   \n",
       "...                ...         ...         ...         ...          ...   \n",
       "2021-12-23  148.572601  146.950851  147.089493  147.142502   13818000.0   \n",
       "2021-12-27  148.426498  147.250000  147.463501  148.063995   13256000.0   \n",
       "2021-12-28  148.374496  145.935501  148.374496  146.447998   18624000.0   \n",
       "2021-12-29  147.183746  145.504501  146.429504  146.504501   17022000.0   \n",
       "2021-12-30  147.062500  145.758499  146.449997  146.002502   12978000.0   \n",
       "\n",
       "             Adj Close  \n",
       "Date                    \n",
       "2011-01-03   15.052330  \n",
       "2011-01-04   14.996788  \n",
       "2011-01-05   15.169890  \n",
       "2011-01-06   15.280226  \n",
       "2011-01-07   15.353451  \n",
       "...                ...  \n",
       "2021-12-23  147.142502  \n",
       "2021-12-27  148.063995  \n",
       "2021-12-28  146.447998  \n",
       "2021-12-29  146.504501  \n",
       "2021-12-30  146.002502  \n",
       "\n",
       "[2768 rows x 6 columns]"
      ]
     },
     "execution_count": 120,
     "metadata": {},
     "output_type": "execute_result"
    }
   ],
   "source": [
    "df_GOOG = web.DataReader('GOOG', data_source='yahoo', start=start, end=end)\n",
    "# printing the data\n",
    "df_GOOG"
   ]
  },
  {
   "cell_type": "code",
   "execution_count": 121,
   "id": "829fe6f5",
   "metadata": {},
   "outputs": [
    {
     "data": {
      "text/plain": [
       "2215"
      ]
     },
     "execution_count": 121,
     "metadata": {},
     "output_type": "execute_result"
    }
   ],
   "source": [
    "#Creating a new dataframe with only the 'Close' column\n",
    "data_GOOG = df_GOOG.filter(['Close'])\n",
    "#Converting the dataframe to a numpy array\n",
    "dataset_GOOG = data_GOOG.values\n",
    "#Get /Compute the number of rows to train the model on\n",
    "training_data_len_GOOG = math.ceil( len(dataset_GOOG) *.8)\n",
    "training_data_len_GOOG"
   ]
  },
  {
   "cell_type": "code",
   "execution_count": 122,
   "id": "ed468513",
   "metadata": {},
   "outputs": [
    {
     "data": {
      "text/plain": [
       "array([[0.02321884],\n",
       "       [0.02281891],\n",
       "       [0.02406532],\n",
       "       ...,\n",
       "       [0.96931912],\n",
       "       [0.96972597],\n",
       "       [0.96611138]])"
      ]
     },
     "execution_count": 122,
     "metadata": {},
     "output_type": "execute_result"
    }
   ],
   "source": [
    "# here we are Scaling the all of the data to be values between 0 and 1 \n",
    "scaler = MinMaxScaler(feature_range=(0, 1)) \n",
    "scaled_data_GOOG = scaler.fit_transform(dataset_GOOG)\n",
    "scaled_data_GOOG"
   ]
  },
  {
   "cell_type": "code",
   "execution_count": 123,
   "id": "8968526a",
   "metadata": {},
   "outputs": [],
   "source": [
    "#Creating the scaled training data set\n",
    "train_data_GOOG = scaled_data_GOOG[0:training_data_len_GOOG  , : ]\n",
    "#Spliting the data into x_train and y_train data sets\n",
    "x_train_GOOG=[]\n",
    "y_train_GOOG =[]\n",
    "for i in range(60,len(train_data_GOOG)):\n",
    "    x_train_GOOG.append(train_data_GOOG[i-60:i,0])\n",
    "    y_train_GOOG.append(train_data_GOOG[i,0])"
   ]
  },
  {
   "cell_type": "code",
   "execution_count": 124,
   "id": "b234f77e",
   "metadata": {},
   "outputs": [],
   "source": [
    "#Here we are Converting x_train and y_train to numpy arrays\n",
    "x_train_GOOG, y_train_GOOG = np.array(x_train_GOOG), np.array(y_train_GOOG)"
   ]
  },
  {
   "cell_type": "code",
   "execution_count": 125,
   "id": "51eefc73",
   "metadata": {},
   "outputs": [],
   "source": [
    "# Here we are reshaping the data into the shape accepted by the LSTM\n",
    "x_train_GOOG = np.reshape(x_train_GOOG, (x_train_GOOG.shape[0],x_train_GOOG.shape[1],1))"
   ]
  },
  {
   "cell_type": "code",
   "execution_count": 135,
   "id": "1f2a1e30",
   "metadata": {},
   "outputs": [
    {
     "data": {
      "text/plain": [
       "(60, 1)"
      ]
     },
     "execution_count": 135,
     "metadata": {},
     "output_type": "execute_result"
    }
   ],
   "source": [
    "(x_train_GOOG.shape[1],1)"
   ]
  },
  {
   "cell_type": "code",
   "execution_count": 126,
   "id": "7f4accef",
   "metadata": {},
   "outputs": [
    {
     "name": "stdout",
     "output_type": "stream",
     "text": [
      "Model: \"sequential_8\"\n",
      "_________________________________________________________________\n",
      "Layer (type)                 Output Shape              Param #   \n",
      "=================================================================\n",
      "lstm_32 (LSTM)               (None, 60, 50)            10400     \n",
      "_________________________________________________________________\n",
      "dropout_32 (Dropout)         (None, 60, 50)            0         \n",
      "_________________________________________________________________\n",
      "lstm_33 (LSTM)               (None, 60, 50)            20200     \n",
      "_________________________________________________________________\n",
      "dropout_33 (Dropout)         (None, 60, 50)            0         \n",
      "_________________________________________________________________\n",
      "lstm_34 (LSTM)               (None, 60, 50)            20200     \n",
      "_________________________________________________________________\n",
      "dropout_34 (Dropout)         (None, 60, 50)            0         \n",
      "_________________________________________________________________\n",
      "lstm_35 (LSTM)               (None, 50)                20200     \n",
      "_________________________________________________________________\n",
      "dropout_35 (Dropout)         (None, 50)                0         \n",
      "_________________________________________________________________\n",
      "dense_8 (Dense)              (None, 1)                 51        \n",
      "=================================================================\n",
      "Total params: 71,051\n",
      "Trainable params: 71,051\n",
      "Non-trainable params: 0\n",
      "_________________________________________________________________\n"
     ]
    }
   ],
   "source": [
    "model = generate_model(x_train_GOOG)\n",
    "\n",
    "model.compile(optimizer='adam',loss='mean_squared_error')\n",
    "#fitting the network\n",
    "model.summary()"
   ]
  },
  {
   "cell_type": "code",
   "execution_count": 127,
   "id": "c1673729",
   "metadata": {},
   "outputs": [
    {
     "name": "stdout",
     "output_type": "stream",
     "text": [
      "Epoch 1/50\n",
      "72/72 [==============================] - 16s 92ms/step - loss: 0.0100\n",
      "Epoch 2/50\n",
      "72/72 [==============================] - 7s 96ms/step - loss: 4.8369e-04\n",
      "Epoch 3/50\n",
      "72/72 [==============================] - 7s 94ms/step - loss: 4.7125e-04\n",
      "Epoch 4/50\n",
      "72/72 [==============================] - 8s 106ms/step - loss: 4.2409e-04\n",
      "Epoch 5/50\n",
      "72/72 [==============================] - 8s 105ms/step - loss: 3.8442e-04\n",
      "Epoch 6/50\n",
      "72/72 [==============================] - 7s 98ms/step - loss: 3.5700e-04\n",
      "Epoch 7/50\n",
      "72/72 [==============================] - 7s 94ms/step - loss: 4.4124e-04\n",
      "Epoch 8/50\n",
      "72/72 [==============================] - 8s 110ms/step - loss: 3.8440e-04 0s - loss: 3.8488e-\n",
      "Epoch 9/50\n",
      "72/72 [==============================] - 8s 114ms/step - loss: 3.7136e-04\n",
      "Epoch 10/50\n",
      "72/72 [==============================] - 9s 126ms/step - loss: 3.2540e-04\n",
      "Epoch 11/50\n",
      "72/72 [==============================] - 11s 149ms/step - loss: 3.0891e-04\n",
      "Epoch 12/50\n",
      "72/72 [==============================] - 11s 151ms/step - loss: 3.0841e-04\n",
      "Epoch 13/50\n",
      "72/72 [==============================] - 10s 139ms/step - loss: 3.0954e-04\n",
      "Epoch 14/50\n",
      "72/72 [==============================] - 9s 119ms/step - loss: 2.9245e-04\n",
      "Epoch 15/50\n",
      "72/72 [==============================] - 10s 142ms/step - loss: 3.3943e-04\n",
      "Epoch 16/50\n",
      "72/72 [==============================] - 10s 133ms/step - loss: 2.6900e-04\n",
      "Epoch 17/50\n",
      "72/72 [==============================] - 9s 120ms/step - loss: 2.7089e-04\n",
      "Epoch 18/50\n",
      "72/72 [==============================] - 8s 107ms/step - loss: 2.5369e-04\n",
      "Epoch 19/50\n",
      "72/72 [==============================] - 11s 152ms/step - loss: 2.2772e-04\n",
      "Epoch 20/50\n",
      "72/72 [==============================] - 9s 130ms/step - loss: 2.6119e-04 \n",
      "Epoch 21/50\n",
      "72/72 [==============================] - 10s 132ms/step - loss: 3.0168e-04\n",
      "Epoch 22/50\n",
      "72/72 [==============================] - 11s 150ms/step - loss: 2.4707e-04\n",
      "Epoch 23/50\n",
      "72/72 [==============================] - 8s 110ms/step - loss: 2.2215e-04ETA: 0s - loss: 2.\n",
      "Epoch 24/50\n",
      "72/72 [==============================] - 8s 106ms/step - loss: 2.2721e-04\n",
      "Epoch 25/50\n",
      "72/72 [==============================] - 8s 110ms/step - loss: 2.4522e-04\n",
      "Epoch 26/50\n",
      "72/72 [==============================] - 8s 106ms/step - loss: 2.3872e-04\n",
      "Epoch 27/50\n",
      "72/72 [==============================] - 7s 96ms/step - loss: 2.1578e-04\n",
      "Epoch 28/50\n",
      "72/72 [==============================] - 7s 92ms/step - loss: 1.9368e-04\n",
      "Epoch 29/50\n",
      "72/72 [==============================] - 7s 93ms/step - loss: 2.1895e-04\n",
      "Epoch 30/50\n",
      "72/72 [==============================] - 7s 103ms/step - loss: 2.4441e-04\n",
      "Epoch 31/50\n",
      "72/72 [==============================] - 8s 106ms/step - loss: 2.0369e-04 0s - loss: 2\n",
      "Epoch 32/50\n",
      "72/72 [==============================] - 10s 142ms/step - loss: 2.1954e-04\n",
      "Epoch 33/50\n",
      "72/72 [==============================] - 9s 120ms/step - loss: 2.8449e-04\n",
      "Epoch 34/50\n",
      "72/72 [==============================] - 7s 101ms/step - loss: 2.3603e-04\n",
      "Epoch 35/50\n",
      "72/72 [==============================] - 8s 112ms/step - loss: 2.0252e-04 1s - loss\n",
      "Epoch 36/50\n",
      "72/72 [==============================] - 7s 103ms/step - loss: 2.0067e-04\n",
      "Epoch 37/50\n",
      "72/72 [==============================] - 9s 122ms/step - loss: 2.1184e-04\n",
      "Epoch 38/50\n",
      "72/72 [==============================] - 8s 111ms/step - loss: 2.0904e-04\n",
      "Epoch 39/50\n",
      "72/72 [==============================] - 8s 109ms/step - loss: 2.0671e-04\n",
      "Epoch 40/50\n",
      "72/72 [==============================] - 10s 132ms/step - loss: 1.8106e-04\n",
      "Epoch 41/50\n",
      "72/72 [==============================] - 9s 130ms/step - loss: 2.0724e-04ETA: 0s - loss: 2.075\n",
      "Epoch 42/50\n",
      "72/72 [==============================] - 11s 145ms/step - loss: 1.8623e-040s - loss: 1.8\n",
      "Epoch 43/50\n",
      "72/72 [==============================] - 10s 138ms/step - loss: 1.8634e-04\n",
      "Epoch 44/50\n",
      "72/72 [==============================] - 10s 139ms/step - loss: 1.8291e-04\n",
      "Epoch 45/50\n",
      "72/72 [==============================] - 10s 137ms/step - loss: 1.8941e-04\n",
      "Epoch 46/50\n",
      "72/72 [==============================] - 9s 130ms/step - loss: 2.1288e-04\n",
      "Epoch 47/50\n",
      "72/72 [==============================] - 9s 127ms/step - loss: 1.7755e-04\n",
      "Epoch 48/50\n",
      "72/72 [==============================] - 8s 112ms/step - loss: 1.8826e-04\n",
      "Epoch 49/50\n",
      "72/72 [==============================] - 10s 143ms/step - loss: 2.1848e-04\n",
      "Epoch 50/50\n",
      "72/72 [==============================] - 8s 117ms/step - loss: 1.8579e-04\n"
     ]
    }
   ],
   "source": [
    "csv_logger_GOOG = keras.callbacks.CSVLogger(f'{path_logs}/keras_log_GOOG_1.csv' ,append=True)\n",
    "model.fit(x_train_GOOG,y_train_GOOG,batch_size=30,epochs=50, callbacks = [csv_logger_GOOG])\n",
    "model.save(\"Trained_Model/GOOG_predict_model.h5\")"
   ]
  },
  {
   "cell_type": "code",
   "execution_count": 128,
   "id": "18f0b334",
   "metadata": {},
   "outputs": [],
   "source": [
    "# here we are testing data set\n",
    "test_data_GOOG = scaled_data_GOOG[training_data_len_GOOG - 60: , : ]\n",
    "#Creating the x_test and y_test data sets\n",
    "x_test_GOOG = []\n",
    "y_test_GOOG =  dataset_GOOG[training_data_len_GOOG : , : ] #Get all of the rows from index 1603 to the rest and all of the columns (in this case it's only column 'Close'), so 2003 - 1603 = 400 rows of data\n",
    "for i in range(60,len(test_data_GOOG)):\n",
    "    x_test_GOOG.append(test_data_GOOG[i-60:i,0])"
   ]
  },
  {
   "cell_type": "code",
   "execution_count": 129,
   "id": "ef940ff6",
   "metadata": {},
   "outputs": [],
   "source": [
    "# here we are converting x_test to a numpy array  \n",
    "x_test_GOOG = np.array(x_test_GOOG)"
   ]
  },
  {
   "cell_type": "code",
   "execution_count": 130,
   "id": "315c4f56",
   "metadata": {},
   "outputs": [],
   "source": [
    "# here we are reshaping the data into the shape accepted by the LSTM  \n",
    "x_test_GOOG = np.reshape(x_test_GOOG, (x_test_GOOG.shape[0],x_test_GOOG.shape[1],1))"
   ]
  },
  {
   "cell_type": "code",
   "execution_count": 131,
   "id": "2e529f27",
   "metadata": {},
   "outputs": [],
   "source": [
    "# now we are getting the models predicted price values\n",
    "predictions_GOOG = model.predict(x_test_GOOG) \n",
    "predictions_GOOG = scaler.inverse_transform(predictions_GOOG)#Undo scaling"
   ]
  },
  {
   "cell_type": "code",
   "execution_count": 132,
   "id": "cc049518",
   "metadata": {},
   "outputs": [
    {
     "data": {
      "text/plain": [
       "5.2694865836381215"
      ]
     },
     "execution_count": 132,
     "metadata": {},
     "output_type": "execute_result"
    }
   ],
   "source": [
    "# here we are calculaing the value of RMSE \n",
    "rmse_GOOG=np.sqrt(np.mean(((predictions_GOOG- y_test_GOOG)**2)))\n",
    "# printing rmse value for predictions and test set\n",
    "rmse_GOOG"
   ]
  },
  {
   "cell_type": "code",
   "execution_count": 136,
   "id": "076cf33d",
   "metadata": {},
   "outputs": [
    {
     "data": {
      "image/png": "[encoded data removed]",
      "text/plain": [
       "<Figure size 1152x576 with 1 Axes>"
      ]
     },
     "metadata": {
      "needs_background": "light"
     },
     "output_type": "display_data"
    }
   ],
   "source": [
    "#Plot/Create the data for the graph\n",
    "train_GOOG = data_GOOG[:training_data_len_GOOG]\n",
    "valid_GOOG = data_GOOG[training_data_len_GOOG:]\n",
    "valid_GOOG['Predictions'] = predictions_GOOG\n",
    "#Visualize the data\n",
    "plt.figure(figsize=(16,8))\n",
    "plt.title('Model for GOOG')\n",
    "plt.xlabel('Date', fontsize=18)\n",
    "plt.ylabel('Close Price', fontsize=18)\n",
    "plt.plot(train_GOOG['Close'])\n",
    "plt.plot(valid_GOOG[['Close', 'Predictions']])\n",
    "plt.legend(['Train', 'Val', 'Predictions'], loc='lower right')\n",
    "plt.show()"
   ]
  },
  {
   "cell_type": "code",
   "execution_count": 68,
   "id": "de8c4c45",
   "metadata": {},
   "outputs": [
    {
     "name": "stdout",
     "output_type": "stream",
     "text": [
      "                 Close  Predictions\n",
      "Date                               \n",
      "2019-10-22   62.139999    62.975777\n",
      "2019-10-23   62.956501    63.126080\n",
      "2019-10-24   63.049500    63.233562\n",
      "2019-10-25   63.256500    63.346199\n",
      "2019-10-28   64.500000    63.488770\n",
      "...                ...          ...\n",
      "2021-12-23  147.142502   136.467514\n",
      "2021-12-27  148.063995   137.029236\n",
      "2021-12-28  146.447998   137.886856\n",
      "2021-12-29  146.504501   138.607193\n",
      "2021-12-30  146.002502   138.997238\n",
      "\n",
      "[553 rows x 2 columns]\n"
     ]
    }
   ],
   "source": [
    "print(valid_GOOG)"
   ]
  },
  {
   "cell_type": "markdown",
   "id": "a28c5021",
   "metadata": {},
   "source": [
    "## Model for Cisco"
   ]
  },
  {
   "cell_type": "code",
   "execution_count": 70,
   "id": "2725beb1",
   "metadata": {},
   "outputs": [
    {
     "data": {
      "text/html": [
       "<div>\n",
       "<style scoped>\n",
       "    .dataframe tbody tr th:only-of-type {\n",
       "        vertical-align: middle;\n",
       "    }\n",
       "\n",
       "    .dataframe tbody tr th {\n",
       "        vertical-align: top;\n",
       "    }\n",
       "\n",
       "    .dataframe thead th {\n",
       "        text-align: right;\n",
       "    }\n",
       "</style>\n",
       "<table border=\"1\" class=\"dataframe\">\n",
       "  <thead>\n",
       "    <tr style=\"text-align: right;\">\n",
       "      <th></th>\n",
       "      <th>High</th>\n",
       "      <th>Low</th>\n",
       "      <th>Open</th>\n",
       "      <th>Close</th>\n",
       "      <th>Volume</th>\n",
       "      <th>Adj Close</th>\n",
       "    </tr>\n",
       "    <tr>\n",
       "      <th>Date</th>\n",
       "      <th></th>\n",
       "      <th></th>\n",
       "      <th></th>\n",
       "      <th></th>\n",
       "      <th></th>\n",
       "      <th></th>\n",
       "    </tr>\n",
       "  </thead>\n",
       "  <tbody>\n",
       "    <tr>\n",
       "      <th>2011-01-03</th>\n",
       "      <td>20.620001</td>\n",
       "      <td>20.379999</td>\n",
       "      <td>20.450001</td>\n",
       "      <td>20.490000</td>\n",
       "      <td>54310200.0</td>\n",
       "      <td>14.550558</td>\n",
       "    </tr>\n",
       "    <tr>\n",
       "      <th>2011-01-04</th>\n",
       "      <td>20.600000</td>\n",
       "      <td>20.400000</td>\n",
       "      <td>20.510000</td>\n",
       "      <td>20.520000</td>\n",
       "      <td>46273800.0</td>\n",
       "      <td>14.571863</td>\n",
       "    </tr>\n",
       "    <tr>\n",
       "      <th>2011-01-05</th>\n",
       "      <td>20.850000</td>\n",
       "      <td>20.530001</td>\n",
       "      <td>20.580000</td>\n",
       "      <td>20.770000</td>\n",
       "      <td>69380400.0</td>\n",
       "      <td>14.749400</td>\n",
       "    </tr>\n",
       "    <tr>\n",
       "      <th>2011-01-06</th>\n",
       "      <td>20.959999</td>\n",
       "      <td>20.760000</td>\n",
       "      <td>20.910000</td>\n",
       "      <td>20.950001</td>\n",
       "      <td>65845400.0</td>\n",
       "      <td>14.877220</td>\n",
       "    </tr>\n",
       "    <tr>\n",
       "      <th>2011-01-07</th>\n",
       "      <td>21.000000</td>\n",
       "      <td>20.830000</td>\n",
       "      <td>20.860001</td>\n",
       "      <td>20.969999</td>\n",
       "      <td>67732200.0</td>\n",
       "      <td>14.891419</td>\n",
       "    </tr>\n",
       "    <tr>\n",
       "      <th>...</th>\n",
       "      <td>...</td>\n",
       "      <td>...</td>\n",
       "      <td>...</td>\n",
       "      <td>...</td>\n",
       "      <td>...</td>\n",
       "      <td>...</td>\n",
       "    </tr>\n",
       "    <tr>\n",
       "      <th>2021-12-23</th>\n",
       "      <td>62.900002</td>\n",
       "      <td>61.790001</td>\n",
       "      <td>61.790001</td>\n",
       "      <td>62.279999</td>\n",
       "      <td>17771400.0</td>\n",
       "      <td>60.384605</td>\n",
       "    </tr>\n",
       "    <tr>\n",
       "      <th>2021-12-27</th>\n",
       "      <td>63.470001</td>\n",
       "      <td>62.279999</td>\n",
       "      <td>62.410000</td>\n",
       "      <td>63.419998</td>\n",
       "      <td>14779700.0</td>\n",
       "      <td>61.489914</td>\n",
       "    </tr>\n",
       "    <tr>\n",
       "      <th>2021-12-28</th>\n",
       "      <td>63.840000</td>\n",
       "      <td>63.230000</td>\n",
       "      <td>63.419998</td>\n",
       "      <td>63.529999</td>\n",
       "      <td>12865000.0</td>\n",
       "      <td>61.596569</td>\n",
       "    </tr>\n",
       "    <tr>\n",
       "      <th>2021-12-29</th>\n",
       "      <td>64.290001</td>\n",
       "      <td>63.549999</td>\n",
       "      <td>63.650002</td>\n",
       "      <td>63.959999</td>\n",
       "      <td>15069900.0</td>\n",
       "      <td>62.013477</td>\n",
       "    </tr>\n",
       "    <tr>\n",
       "      <th>2021-12-30</th>\n",
       "      <td>64.139999</td>\n",
       "      <td>63.470001</td>\n",
       "      <td>64.040001</td>\n",
       "      <td>63.619999</td>\n",
       "      <td>9076700.0</td>\n",
       "      <td>61.683830</td>\n",
       "    </tr>\n",
       "  </tbody>\n",
       "</table>\n",
       "<p>2768 rows × 6 columns</p>\n",
       "</div>"
      ],
      "text/plain": [
       "                 High        Low       Open      Close      Volume  Adj Close\n",
       "Date                                                                         \n",
       "2011-01-03  20.620001  20.379999  20.450001  20.490000  54310200.0  14.550558\n",
       "2011-01-04  20.600000  20.400000  20.510000  20.520000  46273800.0  14.571863\n",
       "2011-01-05  20.850000  20.530001  20.580000  20.770000  69380400.0  14.749400\n",
       "2011-01-06  20.959999  20.760000  20.910000  20.950001  65845400.0  14.877220\n",
       "2011-01-07  21.000000  20.830000  20.860001  20.969999  67732200.0  14.891419\n",
       "...               ...        ...        ...        ...         ...        ...\n",
       "2021-12-23  62.900002  61.790001  61.790001  62.279999  17771400.0  60.384605\n",
       "2021-12-27  63.470001  62.279999  62.410000  63.419998  14779700.0  61.489914\n",
       "2021-12-28  63.840000  63.230000  63.419998  63.529999  12865000.0  61.596569\n",
       "2021-12-29  64.290001  63.549999  63.650002  63.959999  15069900.0  62.013477\n",
       "2021-12-30  64.139999  63.470001  64.040001  63.619999   9076700.0  61.683830\n",
       "\n",
       "[2768 rows x 6 columns]"
      ]
     },
     "execution_count": 70,
     "metadata": {},
     "output_type": "execute_result"
    }
   ],
   "source": [
    "df_CSCO = web.DataReader('CSCO', data_source='yahoo', start=start, end=end)\n",
    "# printing the data\n",
    "df_CSCO"
   ]
  },
  {
   "cell_type": "code",
   "execution_count": 71,
   "id": "62757861",
   "metadata": {},
   "outputs": [
    {
     "data": {
      "text/plain": [
       "2215"
      ]
     },
     "execution_count": 71,
     "metadata": {},
     "output_type": "execute_result"
    }
   ],
   "source": [
    "#Creating a new dataframe with only the 'Close' column\n",
    "data_CSCO = df_CSCO.filter(['Close'])\n",
    "#Converting the dataframe to a numpy array\n",
    "dataset_CSCO = data_CSCO.values\n",
    "#Get /Compute the number of rows to train the model on\n",
    "training_data_len_CSCO = math.ceil( len(dataset_CSCO) *.8)\n",
    "training_data_len_CSCO"
   ]
  },
  {
   "cell_type": "code",
   "execution_count": 72,
   "id": "bd8f828b",
   "metadata": {},
   "outputs": [
    {
     "data": {
      "text/plain": [
       "array([[0.13458093],\n",
       "       [0.1351782 ],\n",
       "       [0.14015531],\n",
       "       ...,\n",
       "       [0.99143937],\n",
       "       [1.        ],\n",
       "       [0.99323113]])"
      ]
     },
     "execution_count": 72,
     "metadata": {},
     "output_type": "execute_result"
    }
   ],
   "source": [
    "# here we are Scaling the all of the data to be values between 0 and 1 \n",
    "scaler = MinMaxScaler(feature_range=(0, 1)) \n",
    "scaled_data_CSCO = scaler.fit_transform(dataset_CSCO)\n",
    "scaled_data_CSCO"
   ]
  },
  {
   "cell_type": "code",
   "execution_count": 73,
   "id": "d976b8fa",
   "metadata": {},
   "outputs": [],
   "source": [
    "#Creating the scaled training data set\n",
    "train_data_CSCO = scaled_data_CSCO[0:training_data_len_CSCO  , : ]\n",
    "#Spliting the data into x_train and y_train data sets\n",
    "x_train_CSCO=[]\n",
    "y_train_CSCO =[]\n",
    "for i in range(60,len(train_data_CSCO)):\n",
    "    x_train_CSCO.append(train_data_CSCO[i-60:i,0])\n",
    "    y_train_CSCO.append(train_data_CSCO[i,0])"
   ]
  },
  {
   "cell_type": "code",
   "execution_count": 74,
   "id": "9c73fb70",
   "metadata": {},
   "outputs": [],
   "source": [
    "#Here we are Converting x_train and y_train to numpy arrays\n",
    "x_train_CSCO, y_train_CSCO = np.array(x_train_CSCO), np.array(y_train_CSCO)"
   ]
  },
  {
   "cell_type": "code",
   "execution_count": 75,
   "id": "340b1d01",
   "metadata": {},
   "outputs": [],
   "source": [
    "# Here we are reshaping the data into the shape accepted by the LSTM\n",
    "x_train_CSCO = np.reshape(x_train_CSCO, (x_train_CSCO.shape[0],x_train_CSCO.shape[1],1))"
   ]
  },
  {
   "cell_type": "code",
   "execution_count": 76,
   "id": "278372b0",
   "metadata": {},
   "outputs": [
    {
     "name": "stdout",
     "output_type": "stream",
     "text": [
      "Model: \"sequential_5\"\n",
      "_________________________________________________________________\n",
      "Layer (type)                 Output Shape              Param #   \n",
      "=================================================================\n",
      "lstm_20 (LSTM)               (None, 60, 50)            10400     \n",
      "_________________________________________________________________\n",
      "dropout_20 (Dropout)         (None, 60, 50)            0         \n",
      "_________________________________________________________________\n",
      "lstm_21 (LSTM)               (None, 60, 50)            20200     \n",
      "_________________________________________________________________\n",
      "dropout_21 (Dropout)         (None, 60, 50)            0         \n",
      "_________________________________________________________________\n",
      "lstm_22 (LSTM)               (None, 60, 50)            20200     \n",
      "_________________________________________________________________\n",
      "dropout_22 (Dropout)         (None, 60, 50)            0         \n",
      "_________________________________________________________________\n",
      "lstm_23 (LSTM)               (None, 50)                20200     \n",
      "_________________________________________________________________\n",
      "dropout_23 (Dropout)         (None, 50)                0         \n",
      "_________________________________________________________________\n",
      "dense_5 (Dense)              (None, 1)                 51        \n",
      "=================================================================\n",
      "Total params: 71,051\n",
      "Trainable params: 71,051\n",
      "Non-trainable params: 0\n",
      "_________________________________________________________________\n"
     ]
    }
   ],
   "source": [
    "model = generate_model(x_train_CSCO)\n",
    "model.compile(optimizer='adam',loss='mean_squared_error')\n",
    "model.summary()"
   ]
  },
  {
   "cell_type": "code",
   "execution_count": 77,
   "id": "a248413a",
   "metadata": {},
   "outputs": [
    {
     "name": "stdout",
     "output_type": "stream",
     "text": [
      "Epoch 1/50\n",
      "72/72 [==============================] - 17s 110ms/step - loss: 0.0208\n",
      "Epoch 2/50\n",
      "72/72 [==============================] - 7s 102ms/step - loss: 0.0024\n",
      "Epoch 3/50\n",
      "72/72 [==============================] - 7s 93ms/step - loss: 0.0020\n",
      "Epoch 4/50\n",
      "72/72 [==============================] - 7s 92ms/step - loss: 0.0023\n",
      "Epoch 5/50\n",
      "72/72 [==============================] - 7s 92ms/step - loss: 0.0023\n",
      "Epoch 6/50\n",
      "72/72 [==============================] - 7s 95ms/step - loss: 0.0019\n",
      "Epoch 7/50\n",
      "72/72 [==============================] - 8s 105ms/step - loss: 0.0016\n",
      "Epoch 8/50\n",
      "72/72 [==============================] - 9s 125ms/step - loss: 0.0019\n",
      "Epoch 9/50\n",
      "72/72 [==============================] - 9s 130ms/step - loss: 0.0018\n",
      "Epoch 10/50\n",
      "72/72 [==============================] - 9s 124ms/step - loss: 0.0015\n",
      "Epoch 11/50\n",
      "72/72 [==============================] - 7s 100ms/step - loss: 0.0016\n",
      "Epoch 12/50\n",
      "72/72 [==============================] - 7s 96ms/step - loss: 0.0017\n",
      "Epoch 13/50\n",
      "72/72 [==============================] - 7s 98ms/step - loss: 0.0017\n",
      "Epoch 14/50\n",
      "72/72 [==============================] - 7s 92ms/step - loss: 0.0014\n",
      "Epoch 15/50\n",
      "72/72 [==============================] - 7s 96ms/step - loss: 0.0015\n",
      "Epoch 16/50\n",
      "72/72 [==============================] - 7s 95ms/step - loss: 0.0013\n",
      "Epoch 17/50\n",
      "72/72 [==============================] - 7s 93ms/step - loss: 0.0011\n",
      "Epoch 18/50\n",
      "72/72 [==============================] - 7s 102ms/step - loss: 0.0012\n",
      "Epoch 19/50\n",
      "72/72 [==============================] - 7s 94ms/step - loss: 0.0014\n",
      "Epoch 20/50\n",
      "72/72 [==============================] - 7s 92ms/step - loss: 0.0012\n",
      "Epoch 21/50\n",
      "72/72 [==============================] - 7s 94ms/step - loss: 0.0012\n",
      "Epoch 22/50\n",
      "72/72 [==============================] - 7s 96ms/step - loss: 0.0011\n",
      "Epoch 23/50\n",
      "72/72 [==============================] - 8s 113ms/step - loss: 0.0012\n",
      "Epoch 24/50\n",
      "72/72 [==============================] - 9s 130ms/step - loss: 0.0011\n",
      "Epoch 25/50\n",
      "72/72 [==============================] - 9s 126ms/step - loss: 9.9455e-04\n",
      "Epoch 26/50\n",
      "72/72 [==============================] - 8s 108ms/step - loss: 0.0011\n",
      "Epoch 27/50\n",
      "72/72 [==============================] - 8s 107ms/step - loss: 9.8352e-04\n",
      "Epoch 28/50\n",
      "72/72 [==============================] - 7s 99ms/step - loss: 0.0011\n",
      "Epoch 29/50\n",
      "72/72 [==============================] - 8s 104ms/step - loss: 9.1761e-04\n",
      "Epoch 30/50\n",
      "72/72 [==============================] - 7s 103ms/step - loss: 9.4671e-04\n",
      "Epoch 31/50\n",
      "72/72 [==============================] - 7s 95ms/step - loss: 0.0013\n",
      "Epoch 32/50\n",
      "72/72 [==============================] - 7s 96ms/step - loss: 8.6246e-04\n",
      "Epoch 33/50\n",
      "72/72 [==============================] - 7s 94ms/step - loss: 9.7784e-04\n",
      "Epoch 34/50\n",
      "72/72 [==============================] - 7s 96ms/step - loss: 9.5622e-04\n",
      "Epoch 35/50\n",
      "72/72 [==============================] - 7s 101ms/step - loss: 7.2888e-04\n",
      "Epoch 36/50\n",
      "72/72 [==============================] - 8s 108ms/step - loss: 8.3225e-04\n",
      "Epoch 37/50\n",
      "72/72 [==============================] - 7s 95ms/step - loss: 0.0011\n",
      "Epoch 38/50\n",
      "72/72 [==============================] - 8s 115ms/step - loss: 8.5568e-04\n",
      "Epoch 39/50\n",
      "72/72 [==============================] - 7s 97ms/step - loss: 8.9228e-04\n",
      "Epoch 40/50\n",
      "72/72 [==============================] - 8s 117ms/step - loss: 7.4251e-04\n",
      "Epoch 41/50\n",
      "72/72 [==============================] - 7s 99ms/step - loss: 8.3138e-04\n",
      "Epoch 42/50\n",
      "72/72 [==============================] - 7s 95ms/step - loss: 7.9169e-04\n",
      "Epoch 43/50\n",
      "72/72 [==============================] - 7s 95ms/step - loss: 8.3518e-04\n",
      "Epoch 44/50\n",
      "72/72 [==============================] - 8s 108ms/step - loss: 8.0959e-04\n",
      "Epoch 45/50\n",
      "72/72 [==============================] - 8s 110ms/step - loss: 7.6216e-04\n",
      "Epoch 46/50\n",
      "72/72 [==============================] - 7s 94ms/step - loss: 8.4267e-04\n",
      "Epoch 47/50\n",
      "72/72 [==============================] - 8s 107ms/step - loss: 9.1743e-04\n",
      "Epoch 48/50\n",
      "72/72 [==============================] - 7s 99ms/step - loss: 8.1270e-04\n",
      "Epoch 49/50\n",
      "72/72 [==============================] - 8s 111ms/step - loss: 6.9091e-04\n",
      "Epoch 50/50\n",
      "72/72 [==============================] - 7s 99ms/step - loss: 6.5024e-04\n"
     ]
    }
   ],
   "source": [
    "csv_logger_CSCO = keras.callbacks.CSVLogger(f'{path_logs}/keras_log_CSCO.csv' ,append=True)\n",
    "model.fit(x_train_CSCO,y_train_CSCO,batch_size=30,epochs=50, callbacks = [csv_logger_CSCO])\n",
    "model.save(\"Trained_Model/CSCO_predict_model.h5\")"
   ]
  },
  {
   "cell_type": "code",
   "execution_count": 79,
   "id": "8e699722",
   "metadata": {},
   "outputs": [],
   "source": [
    "# here we are testing data set\n",
    "test_data_CSCO = scaled_data_CSCO[training_data_len_CSCO - 60: , : ]\n",
    "#Creating the x_test and y_test data sets\n",
    "x_test_CSCO = []\n",
    "y_test_CSCO =  dataset_CSCO[training_data_len_CSCO : , : ] #Get all of the rows from index 1603 to the rest and all of the columns (in this case it's only column 'Close'), so 2003 - 1603 = 400 rows of data\n",
    "for i in range(60,len(test_data_CSCO)):\n",
    "    x_test_CSCO.append(test_data_CSCO[i-60:i,0])"
   ]
  },
  {
   "cell_type": "code",
   "execution_count": 80,
   "id": "ac3afb15",
   "metadata": {},
   "outputs": [],
   "source": [
    "# here we are converting x_test to a numpy array  \n",
    "x_test_CSCO = np.array(x_test_CSCO)"
   ]
  },
  {
   "cell_type": "code",
   "execution_count": 81,
   "id": "0a2675d6",
   "metadata": {},
   "outputs": [],
   "source": [
    "# here we are reshaping the data into the shape accepted by the LSTM  \n",
    "x_test_CSCO = np.reshape(x_test_CSCO, (x_test_CSCO.shape[0],x_test_CSCO.shape[1],1))"
   ]
  },
  {
   "cell_type": "code",
   "execution_count": 82,
   "id": "038dede9",
   "metadata": {},
   "outputs": [],
   "source": [
    "# now we are getting the models predicted price values\n",
    "predictions_CSCO = model.predict(x_test_CSCO) \n",
    "predictions_CSCO = scaler.inverse_transform(predictions_CSCO)#Undo scaling"
   ]
  },
  {
   "cell_type": "code",
   "execution_count": 83,
   "id": "69f07d68",
   "metadata": {},
   "outputs": [
    {
     "data": {
      "text/plain": [
       "1.2995340256723684"
      ]
     },
     "execution_count": 83,
     "metadata": {},
     "output_type": "execute_result"
    }
   ],
   "source": [
    "# here we are calculaing the value of RMSE \n",
    "rmse_CSCO=np.sqrt(np.mean(((predictions_CSCO- y_test_CSCO)**2)))\n",
    "# printing rmse value for predictions and test set\n",
    "rmse_CSCO"
   ]
  },
  {
   "cell_type": "code",
   "execution_count": 85,
   "id": "bfa51cd2",
   "metadata": {},
   "outputs": [
    {
     "data": {
      "image/png": "[encoded data removed]",
      "text/plain": [
       "<Figure size 1152x576 with 1 Axes>"
      ]
     },
     "metadata": {
      "needs_background": "light"
     },
     "output_type": "display_data"
    }
   ],
   "source": [
    "#Plot/Create the data for the graph\n",
    "train_CSCO = data_CSCO[:training_data_len_CSCO]\n",
    "valid_CSCO = data_CSCO[training_data_len_CSCO:]\n",
    "valid_CSCO['Predictions'] = predictions_CSCO\n",
    "#Visualize the data\n",
    "plt.figure(figsize=(16,8))\n",
    "plt.title('Model for CSCO')\n",
    "plt.xlabel('Date', fontsize=18)\n",
    "plt.ylabel('Close Price', fontsize=18)\n",
    "plt.plot(train_CSCO['Close'])\n",
    "plt.plot(valid_CSCO[['Close', 'Predictions']])\n",
    "plt.legend(['Train', 'Val', 'Predictions'], loc='lower right')\n",
    "plt.show()"
   ]
  },
  {
   "cell_type": "code",
   "execution_count": 86,
   "id": "518a2dbc",
   "metadata": {},
   "outputs": [
    {
     "name": "stdout",
     "output_type": "stream",
     "text": [
      "                Close  Predictions\n",
      "Date                              \n",
      "2019-10-22  47.549999    46.955612\n",
      "2019-10-23  47.049999    47.158527\n",
      "2019-10-24  46.410000    47.311386\n",
      "2019-10-25  46.900002    47.315983\n",
      "2019-10-28  47.169998    47.220428\n",
      "...               ...          ...\n",
      "2021-12-23  62.279999    59.449116\n",
      "2021-12-27  63.419998    59.810162\n",
      "2021-12-28  63.529999    60.296906\n",
      "2021-12-29  63.959999    60.838810\n",
      "2021-12-30  63.619999    61.358540\n",
      "\n",
      "[553 rows x 2 columns]\n"
     ]
    }
   ],
   "source": [
    "print(valid_CSCO)"
   ]
  },
  {
   "cell_type": "markdown",
   "id": "79931ef9",
   "metadata": {},
   "source": [
    "## Model for Dominos"
   ]
  },
  {
   "cell_type": "code",
   "execution_count": 87,
   "id": "855a821c",
   "metadata": {},
   "outputs": [
    {
     "data": {
      "text/html": [
       "<div>\n",
       "<style scoped>\n",
       "    .dataframe tbody tr th:only-of-type {\n",
       "        vertical-align: middle;\n",
       "    }\n",
       "\n",
       "    .dataframe tbody tr th {\n",
       "        vertical-align: top;\n",
       "    }\n",
       "\n",
       "    .dataframe thead th {\n",
       "        text-align: right;\n",
       "    }\n",
       "</style>\n",
       "<table border=\"1\" class=\"dataframe\">\n",
       "  <thead>\n",
       "    <tr style=\"text-align: right;\">\n",
       "      <th></th>\n",
       "      <th>High</th>\n",
       "      <th>Low</th>\n",
       "      <th>Open</th>\n",
       "      <th>Close</th>\n",
       "      <th>Volume</th>\n",
       "      <th>Adj Close</th>\n",
       "    </tr>\n",
       "    <tr>\n",
       "      <th>Date</th>\n",
       "      <th></th>\n",
       "      <th></th>\n",
       "      <th></th>\n",
       "      <th></th>\n",
       "      <th></th>\n",
       "      <th></th>\n",
       "    </tr>\n",
       "  </thead>\n",
       "  <tbody>\n",
       "    <tr>\n",
       "      <th>2011-01-03</th>\n",
       "      <td>16.430000</td>\n",
       "      <td>15.880000</td>\n",
       "      <td>16.100000</td>\n",
       "      <td>16.290001</td>\n",
       "      <td>1220000.0</td>\n",
       "      <td>13.614460</td>\n",
       "    </tr>\n",
       "    <tr>\n",
       "      <th>2011-01-04</th>\n",
       "      <td>16.450001</td>\n",
       "      <td>15.900000</td>\n",
       "      <td>16.350000</td>\n",
       "      <td>16.170000</td>\n",
       "      <td>1156400.0</td>\n",
       "      <td>13.514172</td>\n",
       "    </tr>\n",
       "    <tr>\n",
       "      <th>2011-01-05</th>\n",
       "      <td>17.049999</td>\n",
       "      <td>16.190001</td>\n",
       "      <td>16.230000</td>\n",
       "      <td>16.680000</td>\n",
       "      <td>2015700.0</td>\n",
       "      <td>13.940408</td>\n",
       "    </tr>\n",
       "    <tr>\n",
       "      <th>2011-01-06</th>\n",
       "      <td>16.740000</td>\n",
       "      <td>16.370001</td>\n",
       "      <td>16.639999</td>\n",
       "      <td>16.600000</td>\n",
       "      <td>630500.0</td>\n",
       "      <td>13.873548</td>\n",
       "    </tr>\n",
       "    <tr>\n",
       "      <th>2011-01-07</th>\n",
       "      <td>16.750000</td>\n",
       "      <td>16.139999</td>\n",
       "      <td>16.510000</td>\n",
       "      <td>16.629999</td>\n",
       "      <td>589300.0</td>\n",
       "      <td>13.898616</td>\n",
       "    </tr>\n",
       "    <tr>\n",
       "      <th>...</th>\n",
       "      <td>...</td>\n",
       "      <td>...</td>\n",
       "      <td>...</td>\n",
       "      <td>...</td>\n",
       "      <td>...</td>\n",
       "      <td>...</td>\n",
       "    </tr>\n",
       "    <tr>\n",
       "      <th>2021-12-23</th>\n",
       "      <td>549.140015</td>\n",
       "      <td>534.150024</td>\n",
       "      <td>534.150024</td>\n",
       "      <td>545.840027</td>\n",
       "      <td>337500.0</td>\n",
       "      <td>541.009277</td>\n",
       "    </tr>\n",
       "    <tr>\n",
       "      <th>2021-12-27</th>\n",
       "      <td>561.919983</td>\n",
       "      <td>546.539978</td>\n",
       "      <td>547.299988</td>\n",
       "      <td>557.210022</td>\n",
       "      <td>477600.0</td>\n",
       "      <td>552.278625</td>\n",
       "    </tr>\n",
       "    <tr>\n",
       "      <th>2021-12-28</th>\n",
       "      <td>558.710022</td>\n",
       "      <td>551.979980</td>\n",
       "      <td>555.059998</td>\n",
       "      <td>557.770020</td>\n",
       "      <td>189800.0</td>\n",
       "      <td>552.833618</td>\n",
       "    </tr>\n",
       "    <tr>\n",
       "      <th>2021-12-29</th>\n",
       "      <td>565.940002</td>\n",
       "      <td>556.710022</td>\n",
       "      <td>557.799988</td>\n",
       "      <td>562.400024</td>\n",
       "      <td>258400.0</td>\n",
       "      <td>557.422668</td>\n",
       "    </tr>\n",
       "    <tr>\n",
       "      <th>2021-12-30</th>\n",
       "      <td>566.940002</td>\n",
       "      <td>557.400024</td>\n",
       "      <td>563.880005</td>\n",
       "      <td>557.409973</td>\n",
       "      <td>231600.0</td>\n",
       "      <td>552.476807</td>\n",
       "    </tr>\n",
       "  </tbody>\n",
       "</table>\n",
       "<p>2768 rows × 6 columns</p>\n",
       "</div>"
      ],
      "text/plain": [
       "                  High         Low        Open       Close     Volume  \\\n",
       "Date                                                                    \n",
       "2011-01-03   16.430000   15.880000   16.100000   16.290001  1220000.0   \n",
       "2011-01-04   16.450001   15.900000   16.350000   16.170000  1156400.0   \n",
       "2011-01-05   17.049999   16.190001   16.230000   16.680000  2015700.0   \n",
       "2011-01-06   16.740000   16.370001   16.639999   16.600000   630500.0   \n",
       "2011-01-07   16.750000   16.139999   16.510000   16.629999   589300.0   \n",
       "...                ...         ...         ...         ...        ...   \n",
       "2021-12-23  549.140015  534.150024  534.150024  545.840027   337500.0   \n",
       "2021-12-27  561.919983  546.539978  547.299988  557.210022   477600.0   \n",
       "2021-12-28  558.710022  551.979980  555.059998  557.770020   189800.0   \n",
       "2021-12-29  565.940002  556.710022  557.799988  562.400024   258400.0   \n",
       "2021-12-30  566.940002  557.400024  563.880005  557.409973   231600.0   \n",
       "\n",
       "             Adj Close  \n",
       "Date                    \n",
       "2011-01-03   13.614460  \n",
       "2011-01-04   13.514172  \n",
       "2011-01-05   13.940408  \n",
       "2011-01-06   13.873548  \n",
       "2011-01-07   13.898616  \n",
       "...                ...  \n",
       "2021-12-23  541.009277  \n",
       "2021-12-27  552.278625  \n",
       "2021-12-28  552.833618  \n",
       "2021-12-29  557.422668  \n",
       "2021-12-30  552.476807  \n",
       "\n",
       "[2768 rows x 6 columns]"
      ]
     },
     "execution_count": 87,
     "metadata": {},
     "output_type": "execute_result"
    }
   ],
   "source": [
    "df_DPZ = web.DataReader('DPZ', data_source='yahoo', start=start, end=end)\n",
    "# printing the data\n",
    "df_DPZ"
   ]
  },
  {
   "cell_type": "code",
   "execution_count": 88,
   "id": "5fbaced6",
   "metadata": {},
   "outputs": [
    {
     "data": {
      "text/plain": [
       "2215"
      ]
     },
     "execution_count": 88,
     "metadata": {},
     "output_type": "execute_result"
    }
   ],
   "source": [
    "#Creating a new dataframe with only the 'Close' column\n",
    "data_DPZ = df_DPZ.filter(['Close'])\n",
    "#Converting the dataframe to a numpy array\n",
    "dataset_DPZ = data_DPZ.values\n",
    "#Get /Compute the number of rows to train the model on\n",
    "training_data_len_DPZ = math.ceil( len(dataset_DPZ) *.8)\n",
    "training_data_len_DPZ"
   ]
  },
  {
   "cell_type": "code",
   "execution_count": 89,
   "id": "3af151e0",
   "metadata": {},
   "outputs": [
    {
     "data": {
      "text/plain": [
       "array([[2.19689204e-04],\n",
       "       [0.00000000e+00],\n",
       "       [9.33673006e-04],\n",
       "       ...,\n",
       "       [9.91523709e-01],\n",
       "       [1.00000000e+00],\n",
       "       [9.90864561e-01]])"
      ]
     },
     "execution_count": 89,
     "metadata": {},
     "output_type": "execute_result"
    }
   ],
   "source": [
    "# here we are Scaling the all of the data to be values between 0 and 1 \n",
    "scaler = MinMaxScaler(feature_range=(0, 1)) \n",
    "scaled_data_DPZ = scaler.fit_transform(dataset_DPZ)\n",
    "scaled_data_DPZ"
   ]
  },
  {
   "cell_type": "code",
   "execution_count": 90,
   "id": "589a57ca",
   "metadata": {},
   "outputs": [],
   "source": [
    "#Creating the scaled training data set\n",
    "train_data_DPZ = scaled_data_DPZ[0:training_data_len_DPZ  , : ]\n",
    "#Spliting the data into x_train and y_train data sets\n",
    "x_train_DPZ=[]\n",
    "y_train_DPZ =[]\n",
    "for i in range(60,len(train_data_DPZ)):\n",
    "    x_train_DPZ.append(train_data_DPZ[i-60:i,0])\n",
    "    y_train_DPZ.append(train_data_DPZ[i,0])"
   ]
  },
  {
   "cell_type": "code",
   "execution_count": 91,
   "id": "5850e895",
   "metadata": {},
   "outputs": [],
   "source": [
    "#Here we are Converting x_train and y_train to numpy arrays\n",
    "x_train_DPZ, y_train_DPZ = np.array(x_train_DPZ), np.array(y_train_DPZ)"
   ]
  },
  {
   "cell_type": "code",
   "execution_count": 92,
   "id": "a65ce242",
   "metadata": {},
   "outputs": [],
   "source": [
    "# Here we are reshaping the data into the shape accepted by the LSTM\n",
    "x_train_DPZ = np.reshape(x_train_DPZ, (x_train_DPZ.shape[0],x_train_DPZ.shape[1],1))"
   ]
  },
  {
   "cell_type": "code",
   "execution_count": 93,
   "id": "a76bb16d",
   "metadata": {},
   "outputs": [
    {
     "name": "stdout",
     "output_type": "stream",
     "text": [
      "Model: \"sequential_6\"\n",
      "_________________________________________________________________\n",
      "Layer (type)                 Output Shape              Param #   \n",
      "=================================================================\n",
      "lstm_24 (LSTM)               (None, 60, 50)            10400     \n",
      "_________________________________________________________________\n",
      "dropout_24 (Dropout)         (None, 60, 50)            0         \n",
      "_________________________________________________________________\n",
      "lstm_25 (LSTM)               (None, 60, 50)            20200     \n",
      "_________________________________________________________________\n",
      "dropout_25 (Dropout)         (None, 60, 50)            0         \n",
      "_________________________________________________________________\n",
      "lstm_26 (LSTM)               (None, 60, 50)            20200     \n",
      "_________________________________________________________________\n",
      "dropout_26 (Dropout)         (None, 60, 50)            0         \n",
      "_________________________________________________________________\n",
      "lstm_27 (LSTM)               (None, 50)                20200     \n",
      "_________________________________________________________________\n",
      "dropout_27 (Dropout)         (None, 50)                0         \n",
      "_________________________________________________________________\n",
      "dense_6 (Dense)              (None, 1)                 51        \n",
      "=================================================================\n",
      "Total params: 71,051\n",
      "Trainable params: 71,051\n",
      "Non-trainable params: 0\n",
      "_________________________________________________________________\n"
     ]
    }
   ],
   "source": [
    "model = generate_model(x_train_DPZ)\n",
    "\n",
    "#Compiling the network\n",
    "model.compile(optimizer='adam',loss='mean_squared_error')\n",
    "\n",
    "#fitting the network\n",
    "model.summary()"
   ]
  },
  {
   "cell_type": "code",
   "execution_count": 94,
   "id": "fbba7e64",
   "metadata": {},
   "outputs": [
    {
     "name": "stdout",
     "output_type": "stream",
     "text": [
      "Epoch 1/50\n",
      "72/72 [==============================] - 19s 97ms/step - loss: 0.0147\n",
      "Epoch 2/50\n",
      "72/72 [==============================] - 7s 103ms/step - loss: 8.9361e-04\n",
      "Epoch 3/50\n",
      "72/72 [==============================] - 9s 118ms/step - loss: 7.8776e-04\n",
      "Epoch 4/50\n",
      "72/72 [==============================] - 10s 134ms/step - loss: 8.3517e-04\n",
      "Epoch 5/50\n",
      "72/72 [==============================] - 7s 100ms/step - loss: 7.9179e-04\n",
      "Epoch 6/50\n",
      "72/72 [==============================] - 7s 93ms/step - loss: 7.5881e-04\n",
      "Epoch 7/50\n",
      "72/72 [==============================] - 8s 108ms/step - loss: 6.2515e-04\n",
      "Epoch 8/50\n",
      "72/72 [==============================] - 11s 148ms/step - loss: 7.6710e-04\n",
      "Epoch 9/50\n",
      "72/72 [==============================] - 10s 137ms/step - loss: 6.3746e-04\n",
      "Epoch 10/50\n",
      "72/72 [==============================] - 9s 128ms/step - loss: 7.3196e-04\n",
      "Epoch 11/50\n",
      "72/72 [==============================] - 11s 151ms/step - loss: 6.3295e-04\n",
      "Epoch 12/50\n",
      "72/72 [==============================] - 8s 105ms/step - loss: 5.2480e-04\n",
      "Epoch 13/50\n",
      "72/72 [==============================] - 7s 94ms/step - loss: 5.0741e-04\n",
      "Epoch 14/50\n",
      "72/72 [==============================] - 7s 95ms/step - loss: 5.1171e-04\n",
      "Epoch 15/50\n",
      "72/72 [==============================] - 7s 98ms/step - loss: 5.9010e-04\n",
      "Epoch 16/50\n",
      "72/72 [==============================] - 7s 100ms/step - loss: 5.1471e-04\n",
      "Epoch 17/50\n",
      "72/72 [==============================] - 7s 104ms/step - loss: 4.6858e-04\n",
      "Epoch 18/50\n",
      "72/72 [==============================] - 8s 113ms/step - loss: 4.6571e-04\n",
      "Epoch 19/50\n",
      "72/72 [==============================] - 7s 96ms/step - loss: 4.3769e-04\n",
      "Epoch 20/50\n",
      "72/72 [==============================] - 7s 100ms/step - loss: 4.4331e-04\n",
      "Epoch 21/50\n",
      "72/72 [==============================] - 8s 106ms/step - loss: 4.3898e-04\n",
      "Epoch 22/50\n",
      "72/72 [==============================] - 9s 121ms/step - loss: 4.4924e-04\n",
      "Epoch 23/50\n",
      "72/72 [==============================] - 9s 119ms/step - loss: 4.0038e-04\n",
      "Epoch 24/50\n",
      "72/72 [==============================] - 7s 96ms/step - loss: 4.7872e-04\n",
      "Epoch 25/50\n",
      "72/72 [==============================] - 7s 95ms/step - loss: 4.6224e-04\n",
      "Epoch 26/50\n",
      "72/72 [==============================] - 7s 101ms/step - loss: 4.0322e-04\n",
      "Epoch 27/50\n",
      "72/72 [==============================] - 8s 110ms/step - loss: 3.8032e-04\n",
      "Epoch 28/50\n",
      "72/72 [==============================] - 7s 95ms/step - loss: 4.1699e-04\n",
      "Epoch 29/50\n",
      "72/72 [==============================] - 7s 95ms/step - loss: 3.8012e-04\n",
      "Epoch 30/50\n",
      "72/72 [==============================] - 7s 94ms/step - loss: 3.7436e-04\n",
      "Epoch 31/50\n",
      "72/72 [==============================] - 7s 94ms/step - loss: 4.0413e-04\n",
      "Epoch 32/50\n",
      "72/72 [==============================] - 7s 98ms/step - loss: 3.3324e-04\n",
      "Epoch 33/50\n",
      "72/72 [==============================] - 7s 100ms/step - loss: 4.5934e-04\n",
      "Epoch 34/50\n",
      "72/72 [==============================] - 7s 95ms/step - loss: 3.5564e-04\n",
      "Epoch 35/50\n",
      "72/72 [==============================] - 7s 100ms/step - loss: 4.4911e-04\n",
      "Epoch 36/50\n",
      "72/72 [==============================] - 7s 103ms/step - loss: 3.2117e-04\n",
      "Epoch 37/50\n",
      "72/72 [==============================] - 9s 120ms/step - loss: 3.5049e-04\n",
      "Epoch 38/50\n",
      "72/72 [==============================] - 9s 130ms/step - loss: 3.4047e-04\n",
      "Epoch 39/50\n",
      "72/72 [==============================] - 8s 109ms/step - loss: 3.2190e-04\n",
      "Epoch 40/50\n",
      "72/72 [==============================] - 7s 99ms/step - loss: 3.4633e-04\n",
      "Epoch 41/50\n",
      "72/72 [==============================] - 8s 105ms/step - loss: 3.3193e-04\n",
      "Epoch 42/50\n",
      "72/72 [==============================] - 7s 103ms/step - loss: 3.1463e-04\n",
      "Epoch 43/50\n",
      "72/72 [==============================] - 7s 102ms/step - loss: 3.9349e-04\n",
      "Epoch 44/50\n",
      "72/72 [==============================] - 7s 99ms/step - loss: 3.1676e-04\n",
      "Epoch 45/50\n",
      "72/72 [==============================] - 7s 103ms/step - loss: 3.0667e-04\n",
      "Epoch 46/50\n",
      "72/72 [==============================] - 7s 102ms/step - loss: 3.0553e-04\n",
      "Epoch 47/50\n",
      "72/72 [==============================] - 9s 118ms/step - loss: 3.1458e-04\n",
      "Epoch 48/50\n",
      "72/72 [==============================] - 8s 114ms/step - loss: 2.9665e-04\n",
      "Epoch 49/50\n",
      "72/72 [==============================] - 8s 118ms/step - loss: 2.8917e-04\n",
      "Epoch 50/50\n",
      "72/72 [==============================] - 7s 100ms/step - loss: 3.0660e-04\n"
     ]
    }
   ],
   "source": [
    "csv_logger_DPZ = keras.callbacks.CSVLogger(f'{path_logs}/keras_log_DPZ.csv' ,append=True)\n",
    "model.fit(x_train_DPZ,y_train_DPZ,batch_size=30,epochs=50, callbacks = [csv_logger_DPZ])\n",
    "model.save(\"Trained_Model/DPZ_predict_model.h5\")"
   ]
  },
  {
   "cell_type": "code",
   "execution_count": 95,
   "id": "331be60c",
   "metadata": {},
   "outputs": [],
   "source": [
    "# here we are testing data set\n",
    "test_data_DPZ = scaled_data_DPZ[training_data_len_DPZ - 60: , : ]\n",
    "#Creating the x_test and y_test data sets\n",
    "x_test_DPZ = []\n",
    "y_test_DPZ =  dataset_DPZ[training_data_len_DPZ : , : ] #Get all of the rows from index 1603 to the rest and all of the columns (in this case it's only column 'Close'), so 2003 - 1603 = 400 rows of data\n",
    "for i in range(60,len(test_data_DPZ)):\n",
    "    x_test_DPZ.append(test_data_DPZ[i-60:i,0])"
   ]
  },
  {
   "cell_type": "code",
   "execution_count": 96,
   "id": "5be763fb",
   "metadata": {},
   "outputs": [],
   "source": [
    "# here we are converting x_test to a numpy array  \n",
    "x_test_DPZ = np.array(x_test_DPZ)"
   ]
  },
  {
   "cell_type": "code",
   "execution_count": 97,
   "id": "2ad88ab7",
   "metadata": {},
   "outputs": [],
   "source": [
    "# here we are reshaping the data into the shape accepted by the LSTM  \n",
    "x_test_DPZ = np.reshape(x_test_DPZ, (x_test_DPZ.shape[0],x_test_DPZ.shape[1],1))"
   ]
  },
  {
   "cell_type": "code",
   "execution_count": 98,
   "id": "afdfae03",
   "metadata": {},
   "outputs": [],
   "source": [
    "# now we are getting the models predicted price values\n",
    "predictions_DPZ = model.predict(x_test_DPZ) \n",
    "predictions_DPZ = scaler.inverse_transform(predictions_DPZ)#Undo scaling"
   ]
  },
  {
   "cell_type": "code",
   "execution_count": 99,
   "id": "f0348fa0",
   "metadata": {},
   "outputs": [
    {
     "data": {
      "text/plain": [
       "18.29101474028359"
      ]
     },
     "execution_count": 99,
     "metadata": {},
     "output_type": "execute_result"
    }
   ],
   "source": [
    "# here we are calculaing the value of RMSE \n",
    "rmse_DPZ=np.sqrt(np.mean(((predictions_DPZ- y_test_DPZ)**2)))\n",
    "# printing rmse value for predictions and test set\n",
    "rmse_DPZ"
   ]
  },
  {
   "cell_type": "code",
   "execution_count": 100,
   "id": "85a56149",
   "metadata": {},
   "outputs": [
    {
     "data": {
      "image/png": "[encoded data removed]",
      "text/plain": [
       "<Figure size 1152x576 with 1 Axes>"
      ]
     },
     "metadata": {
      "needs_background": "light"
     },
     "output_type": "display_data"
    }
   ],
   "source": [
    "#Plot/Create the data for the graph\n",
    "train_DPZ = data_DPZ[:training_data_len_DPZ]\n",
    "valid_DPZ = data_DPZ[training_data_len_DPZ:]\n",
    "valid_DPZ['Predictions'] = predictions_DPZ\n",
    "#Visualize the data\n",
    "plt.figure(figsize=(16,8))\n",
    "plt.title('Model for DPZ')\n",
    "plt.xlabel('Date', fontsize=18)\n",
    "plt.ylabel('Close Price', fontsize=18)\n",
    "plt.plot(train_DPZ['Close'])\n",
    "plt.plot(valid_DPZ[['Close', 'Predictions']])\n",
    "plt.legend(['Train', 'Val', 'Predictions'], loc='lower right')\n",
    "plt.show()"
   ]
  },
  {
   "cell_type": "code",
   "execution_count": 101,
   "id": "98147513",
   "metadata": {},
   "outputs": [
    {
     "name": "stdout",
     "output_type": "stream",
     "text": [
      "                 Close  Predictions\n",
      "Date                               \n",
      "2019-10-22  258.940002   267.977966\n",
      "2019-10-23  256.000000   268.529419\n",
      "2019-10-24  263.600006   268.895142\n",
      "2019-10-25  271.750000   269.372375\n",
      "2019-10-28  269.459991   270.454529\n",
      "...                ...          ...\n",
      "2021-12-23  545.840027   498.849609\n",
      "2021-12-27  557.210022   500.116821\n",
      "2021-12-28  557.770020   503.236115\n",
      "2021-12-29  562.400024   507.734283\n",
      "2021-12-30  557.409973   512.890320\n",
      "\n",
      "[553 rows x 2 columns]\n"
     ]
    }
   ],
   "source": [
    "print(valid_DPZ)"
   ]
  },
  {
   "cell_type": "markdown",
   "id": "b1c05235",
   "metadata": {},
   "source": [
    "### Conclusion: From the above predictions and root mean squared values (RSME), the model performance is better for AAPL, GOOG, CSCO, but performance with DPZ ticker is less due to the more divergence in the data."
   ]
  },
  {
   "cell_type": "markdown",
   "id": "07e079a1",
   "metadata": {},
   "source": [
    "### End of the Project"
   ]
  }
 ],
 "metadata": {
  "kernelspec": {
   "display_name": "Python 3 (ipykernel)",
   "language": "python",
   "name": "python3"
  },
  "language_info": {
   "codemirror_mode": {
    "name": "ipython",
    "version": 3
   },
   "file_extension": ".py",
   "mimetype": "text/x-python",
   "name": "python",
   "nbconvert_exporter": "python",
   "pygments_lexer": "ipython3",
   "version": "3.9.12"
  }
 },
 "nbformat": 4,
 "nbformat_minor": 5
}
